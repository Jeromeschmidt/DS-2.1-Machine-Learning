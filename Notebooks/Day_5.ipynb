{
 "cells": [
  {
   "cell_type": "code",
   "execution_count": 1,
   "metadata": {},
   "outputs": [],
   "source": [
    "import numpy as np\n",
    "\n",
    "confusion = np.array([[118., 12.], [47., 15.]])"
   ]
  },
  {
   "cell_type": "code",
   "execution_count": 10,
   "metadata": {},
   "outputs": [
    {
     "name": "stdout",
     "output_type": "stream",
     "text": [
      "acc: 0.6927083333333334\n",
      "prec: 0.24193548387096775\n",
      "recall: 0.5555555555555556\n",
      "clas: 0.686046511627907\n",
      "spec: 0.9076923076923077\n",
      "f1: 0.3370786516853933\n"
     ]
    }
   ],
   "source": [
    "def get_metrics(confusion):\n",
    "    acc = (confusion[0][0] + confusion[1][1])/(confusion[0][0] + confusion[1][1] + confusion[0][1] + confusion[1][0])\n",
    "    \n",
    "    prec = (confusion[1][1])/(confusion[1][1] + confusion[1][0])\n",
    "    \n",
    "    recall = (confusion[1][1])/(confusion[1][1] + confusion[0][1])\n",
    "    \n",
    "    clas = (confusion[0][1] + confusion[1][0])/(confusion[0][1] + confusion[1][1] + confusion[0][1] + confusion[1][0])\n",
    "    \n",
    "    spec = (confusion[0][0])/(confusion[0][0] + confusion[0][1])\n",
    "    \n",
    "    f1 = 2*((prec*recall)/(prec+recall))\n",
    "    \n",
    "    print(\"acc: \" + str(acc))\n",
    "    print(\"prec: \" + str(prec))\n",
    "    print(\"recall: \" + str(recall))\n",
    "    print(\"clas: \" + str(clas))\n",
    "    print(\"spec: \" + str(spec))\n",
    "    print(\"f1: \" + str(f1))\n",
    "    \n",
    "\n",
    "get_metrics(confusion)                                                                               "
   ]
  },
  {
   "cell_type": "code",
   "execution_count": 11,
   "metadata": {},
   "outputs": [
    {
     "name": "stdout",
     "output_type": "stream",
     "text": [
      "acc: 0.6927083333333334\n",
      "prec: 0.24193548387096775\n",
      "recall: 0.5555555555555556\n",
      "clas: 0.686046511627907\n",
      "spec: 0.9076923076923077\n",
      "f1: 0.3370786516853933\n"
     ]
    }
   ],
   "source": [
    "get_metrics(np.array([[118., 12.], [ 47., 15.]]))"
   ]
  },
  {
   "cell_type": "code",
   "execution_count": 14,
   "metadata": {},
   "outputs": [
    {
     "name": "stdout",
     "output_type": "stream",
     "text": [
      "acc: 0.65625\n",
      "prec: 0.7419354838709677\n",
      "recall: 0.4791666666666667\n",
      "clas: 0.4074074074074074\n",
      "spec: 0.6153846153846154\n",
      "f1: 0.5822784810126582\n"
     ]
    }
   ],
   "source": [
    "get_metrics(np.array(np.array([[80, 50], [16, 46]])))"
   ]
  },
  {
   "cell_type": "code",
   "execution_count": null,
   "metadata": {},
   "outputs": [],
   "source": []
  }
 ],
 "metadata": {
  "kernelspec": {
   "display_name": "Python 3",
   "language": "python",
   "name": "python3"
  },
  "language_info": {
   "codemirror_mode": {
    "name": "ipython",
    "version": 3
   },
   "file_extension": ".py",
   "mimetype": "text/x-python",
   "name": "python",
   "nbconvert_exporter": "python",
   "pygments_lexer": "ipython3",
   "version": "3.7.6"
  }
 },
 "nbformat": 4,
 "nbformat_minor": 2
}
