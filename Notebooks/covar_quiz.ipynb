{
 "cells": [
  {
   "cell_type": "code",
   "execution_count": 1,
   "metadata": {},
   "outputs": [],
   "source": [
    "import numpy as np"
   ]
  },
  {
   "cell_type": "code",
   "execution_count": 2,
   "metadata": {},
   "outputs": [],
   "source": [
    "ls_x = np.array([1,2,3,4])\n",
    "ls_y = np.array([1,1,2,3])"
   ]
  },
  {
   "cell_type": "code",
   "execution_count": 16,
   "metadata": {},
   "outputs": [
    {
     "name": "stdout",
     "output_type": "stream",
     "text": [
      "1.1666666666666665\n"
     ]
    }
   ],
   "source": [
    "def covar(l1, l2):\n",
    "    x_bar = l1.mean()\n",
    "    y_bar = l2.mean()\n",
    "    \n",
    "    cov = sum([(l1[i]-x_bar)*(l2[i]-y_bar) for i in range(len(l1))]) * (1/(len(l1)-1))\n",
    "    \n",
    "    return cov\n",
    "\n",
    "print(covar(ls_x, ls_y))"
   ]
  },
  {
   "cell_type": "code",
   "execution_count": null,
   "metadata": {},
   "outputs": [],
   "source": []
  }
 ],
 "metadata": {
  "kernelspec": {
   "display_name": "Python 3",
   "language": "python",
   "name": "python3"
  },
  "language_info": {
   "codemirror_mode": {
    "name": "ipython",
    "version": 3
   },
   "file_extension": ".py",
   "mimetype": "text/x-python",
   "name": "python",
   "nbconvert_exporter": "python",
   "pygments_lexer": "ipython3",
   "version": "3.7.6"
  }
 },
 "nbformat": 4,
 "nbformat_minor": 4
}
