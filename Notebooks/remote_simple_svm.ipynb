{
 "cells": [
  {
   "cell_type": "markdown",
   "metadata": {},
   "source": [
    "## Learning Objectives \n",
    "\n",
    "By the end of this class, you should be able to...\n",
    "\n",
    "- Introduce a classifier, that seperates different classes we have in our dataset, with a maximum margin known as a Support Vector Machine (SVM)\n",
    "\n",
    "- Modify the SVM for datasets that are not linearly separable\n",
    "\n",
    "- Adjust the SVM for an unbalanced dataset"
   ]
  },
  {
   "cell_type": "markdown",
   "metadata": {},
   "source": [
    "## Support Vector Machine (SVM)\n",
    "\n",
    "- SVM is a supervised machine learning model for classification tasks. It's really good at doing both classification and regression simultaneously. \n",
    "\n",
    "- If you have a lot of data that needs to be classified, an SVM can help you achieve that\n",
    "\n",
    "- For two dimensions (when we have two features), assume the target has two classes. The SVM will obtain the best line that seperates the data into two groups \n",
    "\n",
    "<img src=\"Images/svm_1.png\" width=\"300\" height=\"300\">\n",
    "\n",
    "<img src=\"Images/best_margin.png\" width=\"300\" height=\"300\">"
   ]
  },
  {
   "cell_type": "markdown",
   "metadata": {},
   "source": [
    "##  Question: which one of the above lines is the best choice for separating the data? Why?"
   ]
  },
  {
   "cell_type": "markdown",
   "metadata": {},
   "source": [
    "## What are Support Vectors in SVM?\n",
    "\n",
    "**Support vectors** are the datapoints that lie closest to the decision boundary (best line, seen in red below)\n",
    "\n",
    "<img src=\"Images/svm_2.png\" width=\"300\" height=\"300\">"
   ]
  },
  {
   "cell_type": "markdown",
   "metadata": {},
   "source": [
    "## Brain Health\n",
    "\n",
    "We have medical data on brain health through the following [Brain Health Dataset](./Datasets/SVM_Dataset1.csv)\n",
    "\n",
    "- Two features (X1 and X2 columns) are given that are releted to brain chemistry:\n",
    "\n",
    "    - Serotonin \n",
    "    \n",
    "    - Dopamine\n",
    "    \n",
    "- The target (y column) shows brain health by indicating having (-1) or not having (1) depression.\n",
    "\n",
    "    - 1 means subject does not have depression\n",
    "    \n",
    "    - -1 means subject does have depression"
   ]
  },
  {
   "cell_type": "code",
   "execution_count": 2,
   "metadata": {},
   "outputs": [
    {
     "ename": "FileNotFoundError",
     "evalue": "[Errno 2] File SVM_Dataset1.csv does not exist: 'SVM_Dataset1.csv'",
     "output_type": "error",
     "traceback": [
      "\u001b[0;31m---------------------------------------------------------------------------\u001b[0m",
      "\u001b[0;31mFileNotFoundError\u001b[0m                         Traceback (most recent call last)",
      "\u001b[0;32m<ipython-input-2-bb19114ba94a>\u001b[0m in \u001b[0;36m<module>\u001b[0;34m\u001b[0m\n\u001b[1;32m      1\u001b[0m \u001b[0;32mimport\u001b[0m \u001b[0mpandas\u001b[0m \u001b[0;32mas\u001b[0m \u001b[0mpd\u001b[0m\u001b[0;34m\u001b[0m\u001b[0;34m\u001b[0m\u001b[0m\n\u001b[1;32m      2\u001b[0m \u001b[0;34m\u001b[0m\u001b[0m\n\u001b[0;32m----> 3\u001b[0;31m \u001b[0mdf\u001b[0m\u001b[0;34m=\u001b[0m\u001b[0mpd\u001b[0m\u001b[0;34m.\u001b[0m\u001b[0mread_csv\u001b[0m\u001b[0;34m(\u001b[0m\u001b[0;34m'SVM_Dataset1.csv'\u001b[0m\u001b[0;34m,\u001b[0m \u001b[0mindex_col\u001b[0m\u001b[0;34m=\u001b[0m\u001b[0;36m0\u001b[0m\u001b[0;34m)\u001b[0m\u001b[0;34m\u001b[0m\u001b[0;34m\u001b[0m\u001b[0m\n\u001b[0m",
      "\u001b[0;32m/usr/local/Cellar/jupyterlab/1.2.4/libexec/lib/python3.7/site-packages/pandas/io/parsers.py\u001b[0m in \u001b[0;36mparser_f\u001b[0;34m(filepath_or_buffer, sep, delimiter, header, names, index_col, usecols, squeeze, prefix, mangle_dupe_cols, dtype, engine, converters, true_values, false_values, skipinitialspace, skiprows, skipfooter, nrows, na_values, keep_default_na, na_filter, verbose, skip_blank_lines, parse_dates, infer_datetime_format, keep_date_col, date_parser, dayfirst, cache_dates, iterator, chunksize, compression, thousands, decimal, lineterminator, quotechar, quoting, doublequote, escapechar, comment, encoding, dialect, error_bad_lines, warn_bad_lines, delim_whitespace, low_memory, memory_map, float_precision)\u001b[0m\n\u001b[1;32m    674\u001b[0m         )\n\u001b[1;32m    675\u001b[0m \u001b[0;34m\u001b[0m\u001b[0m\n\u001b[0;32m--> 676\u001b[0;31m         \u001b[0;32mreturn\u001b[0m \u001b[0m_read\u001b[0m\u001b[0;34m(\u001b[0m\u001b[0mfilepath_or_buffer\u001b[0m\u001b[0;34m,\u001b[0m \u001b[0mkwds\u001b[0m\u001b[0;34m)\u001b[0m\u001b[0;34m\u001b[0m\u001b[0;34m\u001b[0m\u001b[0m\n\u001b[0m\u001b[1;32m    677\u001b[0m \u001b[0;34m\u001b[0m\u001b[0m\n\u001b[1;32m    678\u001b[0m     \u001b[0mparser_f\u001b[0m\u001b[0;34m.\u001b[0m\u001b[0m__name__\u001b[0m \u001b[0;34m=\u001b[0m \u001b[0mname\u001b[0m\u001b[0;34m\u001b[0m\u001b[0;34m\u001b[0m\u001b[0m\n",
      "\u001b[0;32m/usr/local/Cellar/jupyterlab/1.2.4/libexec/lib/python3.7/site-packages/pandas/io/parsers.py\u001b[0m in \u001b[0;36m_read\u001b[0;34m(filepath_or_buffer, kwds)\u001b[0m\n\u001b[1;32m    446\u001b[0m \u001b[0;34m\u001b[0m\u001b[0m\n\u001b[1;32m    447\u001b[0m     \u001b[0;31m# Create the parser.\u001b[0m\u001b[0;34m\u001b[0m\u001b[0;34m\u001b[0m\u001b[0;34m\u001b[0m\u001b[0m\n\u001b[0;32m--> 448\u001b[0;31m     \u001b[0mparser\u001b[0m \u001b[0;34m=\u001b[0m \u001b[0mTextFileReader\u001b[0m\u001b[0;34m(\u001b[0m\u001b[0mfp_or_buf\u001b[0m\u001b[0;34m,\u001b[0m \u001b[0;34m**\u001b[0m\u001b[0mkwds\u001b[0m\u001b[0;34m)\u001b[0m\u001b[0;34m\u001b[0m\u001b[0;34m\u001b[0m\u001b[0m\n\u001b[0m\u001b[1;32m    449\u001b[0m \u001b[0;34m\u001b[0m\u001b[0m\n\u001b[1;32m    450\u001b[0m     \u001b[0;32mif\u001b[0m \u001b[0mchunksize\u001b[0m \u001b[0;32mor\u001b[0m \u001b[0miterator\u001b[0m\u001b[0;34m:\u001b[0m\u001b[0;34m\u001b[0m\u001b[0;34m\u001b[0m\u001b[0m\n",
      "\u001b[0;32m/usr/local/Cellar/jupyterlab/1.2.4/libexec/lib/python3.7/site-packages/pandas/io/parsers.py\u001b[0m in \u001b[0;36m__init__\u001b[0;34m(self, f, engine, **kwds)\u001b[0m\n\u001b[1;32m    878\u001b[0m             \u001b[0mself\u001b[0m\u001b[0;34m.\u001b[0m\u001b[0moptions\u001b[0m\u001b[0;34m[\u001b[0m\u001b[0;34m\"has_index_names\"\u001b[0m\u001b[0;34m]\u001b[0m \u001b[0;34m=\u001b[0m \u001b[0mkwds\u001b[0m\u001b[0;34m[\u001b[0m\u001b[0;34m\"has_index_names\"\u001b[0m\u001b[0;34m]\u001b[0m\u001b[0;34m\u001b[0m\u001b[0;34m\u001b[0m\u001b[0m\n\u001b[1;32m    879\u001b[0m \u001b[0;34m\u001b[0m\u001b[0m\n\u001b[0;32m--> 880\u001b[0;31m         \u001b[0mself\u001b[0m\u001b[0;34m.\u001b[0m\u001b[0m_make_engine\u001b[0m\u001b[0;34m(\u001b[0m\u001b[0mself\u001b[0m\u001b[0;34m.\u001b[0m\u001b[0mengine\u001b[0m\u001b[0;34m)\u001b[0m\u001b[0;34m\u001b[0m\u001b[0;34m\u001b[0m\u001b[0m\n\u001b[0m\u001b[1;32m    881\u001b[0m \u001b[0;34m\u001b[0m\u001b[0m\n\u001b[1;32m    882\u001b[0m     \u001b[0;32mdef\u001b[0m \u001b[0mclose\u001b[0m\u001b[0;34m(\u001b[0m\u001b[0mself\u001b[0m\u001b[0;34m)\u001b[0m\u001b[0;34m:\u001b[0m\u001b[0;34m\u001b[0m\u001b[0;34m\u001b[0m\u001b[0m\n",
      "\u001b[0;32m/usr/local/Cellar/jupyterlab/1.2.4/libexec/lib/python3.7/site-packages/pandas/io/parsers.py\u001b[0m in \u001b[0;36m_make_engine\u001b[0;34m(self, engine)\u001b[0m\n\u001b[1;32m   1112\u001b[0m     \u001b[0;32mdef\u001b[0m \u001b[0m_make_engine\u001b[0m\u001b[0;34m(\u001b[0m\u001b[0mself\u001b[0m\u001b[0;34m,\u001b[0m \u001b[0mengine\u001b[0m\u001b[0;34m=\u001b[0m\u001b[0;34m\"c\"\u001b[0m\u001b[0;34m)\u001b[0m\u001b[0;34m:\u001b[0m\u001b[0;34m\u001b[0m\u001b[0;34m\u001b[0m\u001b[0m\n\u001b[1;32m   1113\u001b[0m         \u001b[0;32mif\u001b[0m \u001b[0mengine\u001b[0m \u001b[0;34m==\u001b[0m \u001b[0;34m\"c\"\u001b[0m\u001b[0;34m:\u001b[0m\u001b[0;34m\u001b[0m\u001b[0;34m\u001b[0m\u001b[0m\n\u001b[0;32m-> 1114\u001b[0;31m             \u001b[0mself\u001b[0m\u001b[0;34m.\u001b[0m\u001b[0m_engine\u001b[0m \u001b[0;34m=\u001b[0m \u001b[0mCParserWrapper\u001b[0m\u001b[0;34m(\u001b[0m\u001b[0mself\u001b[0m\u001b[0;34m.\u001b[0m\u001b[0mf\u001b[0m\u001b[0;34m,\u001b[0m \u001b[0;34m**\u001b[0m\u001b[0mself\u001b[0m\u001b[0;34m.\u001b[0m\u001b[0moptions\u001b[0m\u001b[0;34m)\u001b[0m\u001b[0;34m\u001b[0m\u001b[0;34m\u001b[0m\u001b[0m\n\u001b[0m\u001b[1;32m   1115\u001b[0m         \u001b[0;32melse\u001b[0m\u001b[0;34m:\u001b[0m\u001b[0;34m\u001b[0m\u001b[0;34m\u001b[0m\u001b[0m\n\u001b[1;32m   1116\u001b[0m             \u001b[0;32mif\u001b[0m \u001b[0mengine\u001b[0m \u001b[0;34m==\u001b[0m \u001b[0;34m\"python\"\u001b[0m\u001b[0;34m:\u001b[0m\u001b[0;34m\u001b[0m\u001b[0;34m\u001b[0m\u001b[0m\n",
      "\u001b[0;32m/usr/local/Cellar/jupyterlab/1.2.4/libexec/lib/python3.7/site-packages/pandas/io/parsers.py\u001b[0m in \u001b[0;36m__init__\u001b[0;34m(self, src, **kwds)\u001b[0m\n\u001b[1;32m   1889\u001b[0m         \u001b[0mkwds\u001b[0m\u001b[0;34m[\u001b[0m\u001b[0;34m\"usecols\"\u001b[0m\u001b[0;34m]\u001b[0m \u001b[0;34m=\u001b[0m \u001b[0mself\u001b[0m\u001b[0;34m.\u001b[0m\u001b[0musecols\u001b[0m\u001b[0;34m\u001b[0m\u001b[0;34m\u001b[0m\u001b[0m\n\u001b[1;32m   1890\u001b[0m \u001b[0;34m\u001b[0m\u001b[0m\n\u001b[0;32m-> 1891\u001b[0;31m         \u001b[0mself\u001b[0m\u001b[0;34m.\u001b[0m\u001b[0m_reader\u001b[0m \u001b[0;34m=\u001b[0m \u001b[0mparsers\u001b[0m\u001b[0;34m.\u001b[0m\u001b[0mTextReader\u001b[0m\u001b[0;34m(\u001b[0m\u001b[0msrc\u001b[0m\u001b[0;34m,\u001b[0m \u001b[0;34m**\u001b[0m\u001b[0mkwds\u001b[0m\u001b[0;34m)\u001b[0m\u001b[0;34m\u001b[0m\u001b[0;34m\u001b[0m\u001b[0m\n\u001b[0m\u001b[1;32m   1892\u001b[0m         \u001b[0mself\u001b[0m\u001b[0;34m.\u001b[0m\u001b[0munnamed_cols\u001b[0m \u001b[0;34m=\u001b[0m \u001b[0mself\u001b[0m\u001b[0;34m.\u001b[0m\u001b[0m_reader\u001b[0m\u001b[0;34m.\u001b[0m\u001b[0munnamed_cols\u001b[0m\u001b[0;34m\u001b[0m\u001b[0;34m\u001b[0m\u001b[0m\n\u001b[1;32m   1893\u001b[0m \u001b[0;34m\u001b[0m\u001b[0m\n",
      "\u001b[0;32mpandas/_libs/parsers.pyx\u001b[0m in \u001b[0;36mpandas._libs.parsers.TextReader.__cinit__\u001b[0;34m()\u001b[0m\n",
      "\u001b[0;32mpandas/_libs/parsers.pyx\u001b[0m in \u001b[0;36mpandas._libs.parsers.TextReader._setup_parser_source\u001b[0;34m()\u001b[0m\n",
      "\u001b[0;31mFileNotFoundError\u001b[0m: [Errno 2] File SVM_Dataset1.csv does not exist: 'SVM_Dataset1.csv'"
     ]
    }
   ],
   "source": [
    "import pandas as pd\n",
    "\n",
    "df=pd.read_csv('SVM_Dataset1.csv', index_col=0)"
   ]
  },
  {
   "cell_type": "code",
   "execution_count": null,
   "metadata": {},
   "outputs": [],
   "source": [
    "print(df)"
   ]
  },
  {
   "cell_type": "markdown",
   "metadata": {},
   "source": [
    "### Activity: Lets build our X_train and Y_train arrays\n",
    "\n",
    "**Complete this activity groups of 3:**\n",
    "\n",
    "**Hint:** We'll need to use numpy here, as well as the [zip function](https://www.geeksforgeeks.org/create-pandas-dataframe-from-lists-using-zip/)"
   ]
  },
  {
   "cell_type": "code",
   "execution_count": null,
   "metadata": {},
   "outputs": [],
   "source": [
    "import numpy as np\n",
    "X1=df['X1']\n",
    "X2=df['X2']\n",
    "X_train=np.array(list(zip(X1,X2)))\n",
    "\n",
    "print(X_train)"
   ]
  },
  {
   "cell_type": "code",
   "execution_count": null,
   "metadata": {},
   "outputs": [],
   "source": [
    "y_train=df['y'].values\n",
    "\n",
    "print(y_train)"
   ]
  },
  {
   "cell_type": "markdown",
   "metadata": {},
   "source": [
    "### Activity: Assign color and label to each target class\n",
    "\n",
    "**Complete this activity groups of 3:**\n",
    "\n",
    "**Hint:** To do this, build two lists whose color/label values match with the values of the `y_train` array at the corresponding indices."
   ]
  },
  {
   "cell_type": "code",
   "execution_count": null,
   "metadata": {},
   "outputs": [],
   "source": [
    "color_ls = []\n",
    "# if y == 1, then the value at the same index in color_ls will be 'b'\n",
    "# otherwise, it will be 'r'\n",
    "for k in y_train:\n",
    "    if k == 1:\n",
    "        color_ls.append('b')\n",
    "    else:\n",
    "        color_ls.append('r')\n",
    "\n",
    "print(color_ls)\n",
    "        "
   ]
  },
  {
   "cell_type": "code",
   "execution_count": null,
   "metadata": {},
   "outputs": [],
   "source": [
    "label = []\n",
    "# if y == 1, then the value at the same index in label will be 'H'\n",
    "# otherwise, it will be 'NH'\n",
    "for k in y_train:\n",
    "    if k == 1:\n",
    "        label.append('H')\n",
    "    else:\n",
    "        label.append('NH')\n",
    "\n",
    "print(label)"
   ]
  },
  {
   "cell_type": "markdown",
   "metadata": {},
   "source": [
    "### Activity: Create a scatter plot of data with labels\n",
    "\n",
    "**Complete this activity groups of 3:**\n",
    "\n",
    "**Hints:**\n",
    "\n",
    "- There's some functions in [matplotlib.pyplot](https://matplotlib.org/3.2.1/api/_as_gen/matplotlib.pyplot.html) that will help us here.\n",
    "- How can the [enumerate function](https://www.geeksforgeeks.org/enumerate-in-python/) help us here?"
   ]
  },
  {
   "cell_type": "code",
   "execution_count": null,
   "metadata": {},
   "outputs": [],
   "source": [
    "import matplotlib.pyplot as plt\n",
    "\n",
    "# k is our index, (i,j) are our Serotonin and Dopamine pairings.\n",
    "# For example, here are the values on the first iteration of the loop:\n",
    "# k == 0, (i, j) == (2.947814, 6.626878)\n",
    "for k, (i,j) in enumerate(X_train):\n",
    "    # add the datapoint to a scatter plot,\n",
    "    # using the k'th color in colors_ls\n",
    "    plt.scatter(i, j, c = color_ls[k])\n",
    "    # 0.02 to the right and above the point,\n",
    "    # add the k'th text label in label\n",
    "    plt.text(i+0.02, j+0.02, label[k])"
   ]
  },
  {
   "cell_type": "markdown",
   "metadata": {},
   "source": [
    "## How to obtain the best line using sklearn\n",
    "\n",
    "**Code-along with Milad**\n",
    "\n",
    "sklearn has an [SVM module](https://scikit-learn.org/stable/modules/svm.html#svm) you can import that will help you find the best fit line. Look into how the `SVC` and `fit` functions can help you"
   ]
  },
  {
   "cell_type": "code",
   "execution_count": null,
   "metadata": {},
   "outputs": [],
   "source": [
    "from sklearn import svm\n",
    "\n",
    "# svm_classifier = svm.SVC(kernel='poly',C=1, degree=2)\n",
    "\n",
    "# We want to use a linear classification\n",
    "svm_classifier = svm.SVC(kernel='linear', C=10)\n",
    "# find the best fit line\n",
    "svm_classifier.fit(X_train, y_train)"
   ]
  },
  {
   "cell_type": "code",
   "execution_count": null,
   "metadata": {},
   "outputs": [],
   "source": [
    "# Helper function to plot the best fit line,\n",
    "# as well as marking the closest data points to the line,\n",
    "# through dotted lines (margins)\n",
    "def plot_decision_boundary(clf, X, y):\n",
    "    x1_min, x1_max = X[:, 0].min() - 1, X[:, 0].max() + 1\n",
    "    x2_min, x2_max = X[:, 1].min() - 1, X[:, 1].max() + 1\n",
    "    xx1, xx2 = np.meshgrid(np.arange(x1_min, x1_max),np.arange(x2_min, x2_max))\n",
    "    Z = clf.decision_function(np.array([xx1.ravel(), xx2.ravel()]).T).reshape(xx1.shape)\n",
    "    plt.contour(xx1, xx2, Z, colors='b', levels=[-1, 0, 1], alpha=0.4, linestyles=['--', '-', '--'])\n",
    "    plt.xlim(xx1.min(), xx1.max())\n",
    "    plt.ylim(xx2.min(), xx2.max())\n",
    "    "
   ]
  },
  {
   "cell_type": "code",
   "execution_count": null,
   "metadata": {},
   "outputs": [],
   "source": [
    "# pass in the trained model and data points,\n",
    "# and plot the best fit line + margins\n",
    "plot_decision_boundary(svm_classifier, X_train, y_train)\n",
    "\n",
    "# plot data points + color/labels\n",
    "for k, (i,j) in enumerate(X_train):\n",
    "    plt.scatter(i, j, c = color_ls[k])\n",
    "    plt.text(i+0.02, j+0.02, label[k])"
   ]
  },
  {
   "cell_type": "code",
   "execution_count": null,
   "metadata": {},
   "outputs": [],
   "source": [
    "# Number of Support Vectors for each class:\n",
    "\n",
    "svm_classifier.n_support_"
   ]
  },
  {
   "cell_type": "code",
   "execution_count": null,
   "metadata": {},
   "outputs": [],
   "source": [
    "# What are those Support Vectors:\n",
    "\n",
    "svm_classifier.support_vectors_"
   ]
  },
  {
   "cell_type": "code",
   "execution_count": null,
   "metadata": {},
   "outputs": [],
   "source": [
    "# Obtain the slope (weight) and intercept for the best fit line equation: \n",
    "\n",
    "# a + b\n",
    "weight=svm_classifier.coef_\n",
    "# c\n",
    "intercept=svm_classifier.intercept_\n",
    "print(weight)\n",
    "print(intercept)"
   ]
  },
  {
   "cell_type": "markdown",
   "metadata": {},
   "source": [
    "## From the above weight and intecept results, we can say the best line is:\n",
    "\n",
    "$ax_1+bx_2+c =0$, where $a = 2.90336685$, $b = 1.20121959$ and $c = -14.73321143$"
   ]
  },
  {
   "cell_type": "markdown",
   "metadata": {},
   "source": [
    "## Activity: Check that the points (3, 5) and (2, 7.5) are very close to the best line:\n",
    "\n",
    "- Use `a`, `b`, and `c` that we just calculated"
   ]
  },
  {
   "cell_type": "code",
   "execution_count": null,
   "metadata": {},
   "outputs": [],
   "source": [
    "print(weight[0][0]*3+weight[0][1]*5+intercept[0])\n",
    "print(weight[0][0]*2+weight[0][1]*7.5+intercept[0])"
   ]
  },
  {
   "cell_type": "markdown",
   "metadata": {},
   "source": [
    "## Activity: Am I healthy?\n",
    "\n",
    "- I went to a medical lab and they measured my Serotonin and Dopamine which was 3 and 6, respectively.\n",
    "- Can we use the SVM classifier to see if I am deppressed?"
   ]
  },
  {
   "cell_type": "code",
   "execution_count": null,
   "metadata": {},
   "outputs": [],
   "source": [
    "svm_classifier.predict([[3,6]])"
   ]
  },
  {
   "cell_type": "markdown",
   "metadata": {},
   "source": [
    "Good, I am not depressed :)"
   ]
  },
  {
   "cell_type": "markdown",
   "metadata": {},
   "source": [
    "## SVM Training For Non-Linearly Separable Data\n",
    "\n",
    "Based on the [SVM_Dataset2 dataset](./Datasets/SVM_Dataset2.csv), it is possible that we can not find a _line_ that separates the two classes.\n",
    "\n",
    "\n",
    "<img src=\"Images/svm_5.png\" width=\"500\" height=\"500\">\n",
    "\n",
    "## Solution: Use Polynomial as the Kernel\n",
    "\n",
    "<img src=\"Images/svm_3.png\" width=\"500\" height=\"500\">"
   ]
  },
  {
   "cell_type": "markdown",
   "metadata": {},
   "source": [
    "## What if even polynomial can not separate the two groups?\n",
    "\n",
    "\n",
    "<img src=\"Images/why_rbf_kernel.png\" width=\"500\" height=\"500\">"
   ]
  },
  {
   "cell_type": "markdown",
   "metadata": {},
   "source": [
    "## Solution: Use Radial Basis Function (RBF) as the Kernel\n",
    "\n",
    "<img src=\"Images/svm_6.png\" width=\"500\" height=\"500\">"
   ]
  },
  {
   "cell_type": "markdown",
   "metadata": {},
   "source": [
    "## Kernels in SVM and their parameters:\n",
    "\n",
    "Type of kernels:\n",
    "\n",
    "1. Linear\n",
    "1. Polynomial\n",
    "1. RBF (Gaussian)\n",
    "\n",
    "There are two parameters for each of these:\n",
    "\n",
    "- Gamma (for RBF only). This is the \"spread\" of the decision region (kernel)\n",
    "- C (for all of them). This is the threshold for misclassifying data.\n",
    "\n",
    "Read [this article on SVM parameters](https://chrisalbon.com/machine_learning/support_vector_machines/svc_parameters_using_rbf_kernel/) for more information! (Optional)"
   ]
  },
  {
   "cell_type": "markdown",
   "metadata": {},
   "source": [
    "## What if the classes are unbalanced?\n",
    "\n",
    "Let's go through this example together to learn about assigning **class weights** for SVMs:\n",
    "http://scikit-learn.org/stable/auto_examples/svm/plot_separating_hyperplane_unbalanced.html\n",
    "\n",
    "\n",
    "## Activity: Obtain which line (black or red) from the previous example will have the lowest error\n",
    "\n",
    "**Complete this activity in groups of 3**\n",
    "\n",
    "**Hints:**\n",
    "\n",
    "Follow these steps:\n",
    "1. Train two SVM models: one with class weights, and one without\n",
    "1. Pass the dataset into your SVM models\n",
    "1. Compare the model predictions with known classes\n",
    "1. Report which one has the lowest mistakes (error rate)\n",
    "\n",
    "**Use the following code to get started (includes the dataset to use:)**"
   ]
  },
  {
   "cell_type": "code",
   "execution_count": null,
   "metadata": {},
   "outputs": [],
   "source": [
    "import numpy as np\n",
    "import matplotlib.pyplot as plt\n",
    "from sklearn import svm\n",
    "from sklearn.datasets import make_blobs\n",
    "\n",
    "# we create two clusters of random points\n",
    "n_samples_1 = 1000\n",
    "n_samples_2 = 100\n",
    "centers = [[0.0, 0.0], [2.0, 2.0]]\n",
    "clusters_std = [1.5, 0.5]\n",
    "X, y = make_blobs(n_samples=[n_samples_1, n_samples_2],\n",
    "                  centers=centers,\n",
    "                  cluster_std=clusters_std,\n",
    "                  random_state=0, shuffle=False)"
   ]
  },
  {
   "cell_type": "markdown",
   "metadata": {},
   "source": [
    "## Resource: All the code we used for SVM_Dataset1:"
   ]
  },
  {
   "cell_type": "code",
   "execution_count": 4,
   "metadata": {},
   "outputs": [
    {
     "data": {
      "text/plain": [
       "array([[2.155826, 6.222343],\n",
       "       [3.273418, 3.520687],\n",
       "       [3.156983, 5.467077]])"
      ]
     },
     "execution_count": 4,
     "metadata": {},
     "output_type": "execute_result"
    },
    {
     "data": {
      "image/png": "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\n",
      "text/plain": [
       "<Figure size 432x288 with 1 Axes>"
      ]
     },
     "metadata": {
      "needs_background": "light"
     },
     "output_type": "display_data"
    }
   ],
   "source": [
    "import numpy as np\n",
    "import pandas as pd\n",
    "from sklearn import svm\n",
    "import matplotlib.pyplot as plt\n",
    "\n",
    "df=pd.read_csv('datasets/SVM_Dataset1.csv', index_col=0)\n",
    "\n",
    "\n",
    "X1=df['X1']\n",
    "X2=df['X2']\n",
    "\n",
    "X_train=np.array(list(zip(X1,X2)))\n",
    "y_train=df['y'].values\n",
    "\n",
    "\n",
    "svm_classifier = svm.SVC(kernel='linear',C=10)\n",
    "\n",
    "# svm_classifier = svm.SVC(kernel='rbf', gamma=0.1, C=10)\n",
    "svm_classifier.fit(X_train, y_train)\n",
    "\n",
    "color_ls = []\n",
    "for k in y_train:\n",
    "    if k == 1:\n",
    "        color_ls.append('b')\n",
    "    else:\n",
    "        color_ls.append('r')\n",
    "color_ls\n",
    "\n",
    "label = []\n",
    "for k in y_train:\n",
    "    if k == 1:\n",
    "        label.append('H')\n",
    "    else:\n",
    "        label.append('NH')\n",
    "label\n",
    "\n",
    "def plot_decision_boundary(clf, X, y):\n",
    "    x1_min, x1_max = X[:, 0].min() - 1, X[:, 0].max() + 1\n",
    "    x2_min, x2_max = X[:, 1].min() - 1, X[:, 1].max() + 1\n",
    "    xx1, xx2 = np.meshgrid(np.arange(x1_min, x1_max),np.arange(x2_min, x2_max))\n",
    "    Z = clf.decision_function(np.array([xx1.ravel(), xx2.ravel()]).T).reshape(xx1.shape)\n",
    "    plt.contourf(xx1, xx2, Z, colors='k', levels=[-1, 0, 1], alpha=0.4, linestyles=['--', '-', '--'])\n",
    "    plt.xlim(xx1.min(), xx1.max())\n",
    "    plt.ylim(xx2.min(), xx2.max())\n",
    "    \n",
    "\n",
    "plot_decision_boundary(svm_classifier, X_train, y_train)\n",
    "\n",
    "for k, (i,j) in enumerate(X_train):\n",
    "    plt.scatter(i, j, c = color_ls[k])\n",
    "    plt.text(i+0.02, j+0.02, label[k])\n",
    "    \n",
    "svm_classifier.support_vectors_"
   ]
  },
  {
   "cell_type": "markdown",
   "metadata": {},
   "source": [
    "## Resource: Code for SVM_Dataset 2:"
   ]
  },
  {
   "cell_type": "code",
   "execution_count": 6,
   "metadata": {},
   "outputs": [
    {
     "data": {
      "text/plain": [
       "array([[ 8., 12.],\n",
       "       [14., 12.],\n",
       "       [ 4., 15.],\n",
       "       [13., 10.]])"
      ]
     },
     "execution_count": 6,
     "metadata": {},
     "output_type": "execute_result"
    },
    {
     "data": {
      "image/png": "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\n",
      "text/plain": [
       "<Figure size 432x288 with 1 Axes>"
      ]
     },
     "metadata": {
      "needs_background": "light"
     },
     "output_type": "display_data"
    }
   ],
   "source": [
    "# Apply different SVM kernels, (linear, polynomial or RBF) to obtain the best classifier for SVM_Dataset2.csv\n",
    "\n",
    "import numpy as np\n",
    "import pandas as pd\n",
    "from sklearn import svm\n",
    "import matplotlib.pyplot as plt\n",
    "\n",
    "df=pd.read_csv('datasets/SVM_Dataset2.csv')\n",
    "\n",
    "\n",
    "X1=df['x1']\n",
    "X2=df['x2']\n",
    "\n",
    "X_train=np.array(list(zip(X1,X2)))\n",
    "y_train=df['y'].values\n",
    "\n",
    "# svm_classifier = svm.SVC(kernel='linear', C=10)\n",
    "#svm_classifier = svm.SVC(kernel='poly', C=10)\n",
    "svm_classifier = svm.SVC(kernel='poly',C=1, degree=2)\n",
    "# svm_classifier = svm.SVC(kernel='rbf', gamma=0.1, C=100)\n",
    "svm_classifier.fit(X_train, y_train)\n",
    "\n",
    "color_ls = []\n",
    "for k in y_train:\n",
    "    if k == 1:\n",
    "        color_ls.append('b')\n",
    "    else:\n",
    "        color_ls.append('r')\n",
    "color_ls\n",
    "\n",
    "label = []\n",
    "for k in y_train:\n",
    "    if k == 1:\n",
    "        label.append('H')\n",
    "    else:\n",
    "        label.append('NH')\n",
    "label\n",
    "\n",
    "def plot_decision_boundary(clf, X, y):\n",
    "    x1_min, x1_max = X[:, 0].min() - 1, X[:, 0].max() + 1\n",
    "    x2_min, x2_max = X[:, 1].min() - 1, X[:, 1].max() + 1\n",
    "    xx1, xx2 = np.meshgrid(np.arange(x1_min, x1_max),np.arange(x2_min, x2_max))\n",
    "    Z = clf.decision_function(np.array([xx1.ravel(), xx2.ravel()]).T).reshape(xx1.shape)\n",
    "    plt.contourf(xx1, xx2, Z, colors='k', levels=[-1, 0, 1], alpha=0.4, linestyles=['--', '-', '--'])\n",
    "    plt.xlim(xx1.min(), xx1.max())\n",
    "    plt.ylim(xx2.min(), xx2.max())\n",
    "    \n",
    "\n",
    "plot_decision_boundary(svm_classifier, X_train, y_train)\n",
    "\n",
    "for k, (i,j) in enumerate(X_train):\n",
    "    plt.scatter(i, j, c = color_ls[k])\n",
    "    plt.text(i+0.02, j+0.02, label[k])\n",
    "    \n",
    "svm_classifier.support_vectors_"
   ]
  },
  {
   "cell_type": "markdown",
   "metadata": {},
   "source": [
    "## Tutorial/Article Resources\n",
    "- [SVM Tutorial](https://people.revoledu.com/kardi/tutorial/Python/SVM+in+Python.html)\n",
    "    - Here are the steps you will follow in the tutorial:\n",
    "        - Create the dataset\n",
    "        - Define the SVM model as the classifier \n",
    "        - Fit the SVM with training dataset\n",
    "        - Obtain its support vectors \n",
    "        - Obtain the score of the trained SVM model\n",
    "- [Article on SVM parameters](https://chrisalbon.com/machine_learning/support_vector_machines/svc_parameters_using_rbf_kernel/)"
   ]
  },
  {
   "cell_type": "code",
   "execution_count": null,
   "metadata": {},
   "outputs": [],
   "source": []
  }
 ],
 "metadata": {
  "kernelspec": {
   "display_name": "Python 3",
   "language": "python",
   "name": "python3"
  },
  "language_info": {
   "codemirror_mode": {
    "name": "ipython",
    "version": 3
   },
   "file_extension": ".py",
   "mimetype": "text/x-python",
   "name": "python",
   "nbconvert_exporter": "python",
   "pygments_lexer": "ipython3",
<<<<<<< HEAD
   "version": "3.7.6"
=======
   "version": "3.7.5"
>>>>>>> 4c6080ba5444eef21108f562a704e0cf282e7b23
  }
 },
 "nbformat": 4,
 "nbformat_minor": 2
}
