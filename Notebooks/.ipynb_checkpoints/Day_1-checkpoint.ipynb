{
 "cells": [
  {
   "cell_type": "code",
   "execution_count": 1,
   "metadata": {},
   "outputs": [],
   "source": [
    "import numpy as np"
   ]
  },
  {
   "cell_type": "code",
   "execution_count": 2,
   "metadata": {},
   "outputs": [],
   "source": [
    "X_train = np.array([[1000.0, 2], [1500.0, 3]])"
   ]
  },
  {
   "cell_type": "code",
   "execution_count": 3,
   "metadata": {},
   "outputs": [
    {
     "data": {
      "text/plain": [
       "array([[1000.,    2.],\n",
       "       [1500.,    3.]])"
      ]
     },
     "execution_count": 3,
     "metadata": {},
     "output_type": "execute_result"
    }
   ],
   "source": [
    "X_train"
   ]
  },
  {
   "cell_type": "code",
   "execution_count": 4,
   "metadata": {},
   "outputs": [
    {
     "data": {
      "text/plain": [
       "array([1000., 1500.])"
      ]
     },
     "execution_count": 4,
     "metadata": {},
     "output_type": "execute_result"
    }
   ],
   "source": [
    "# grab all rows from first column\n",
    "X_train[:,0]"
   ]
  },
  {
   "cell_type": "code",
   "execution_count": 5,
   "metadata": {},
   "outputs": [
    {
     "data": {
      "text/plain": [
       "array([2., 3.])"
      ]
     },
     "execution_count": 5,
     "metadata": {},
     "output_type": "execute_result"
    }
   ],
   "source": [
    "# grab all rows frmo second column\n",
    "X_train[:,1]"
   ]
  },
  {
   "cell_type": "code",
   "execution_count": 18,
   "metadata": {},
   "outputs": [
    {
     "data": {
      "text/plain": [
       "1000.0"
      ]
     },
     "execution_count": 18,
     "metadata": {},
     "output_type": "execute_result"
    }
   ],
   "source": [
    "# minimum value of the first column\n",
    "X1_min = min(X_train[:,0])\n",
    "# or\n",
    "np.min(X_train[:,0])\n",
    "# or\n",
    "X_train[:,0].min()"
   ]
  },
  {
   "cell_type": "code",
   "execution_count": 12,
   "metadata": {},
   "outputs": [
    {
     "data": {
      "text/plain": [
       "3.0"
      ]
     },
     "execution_count": 12,
     "metadata": {},
     "output_type": "execute_result"
    }
   ],
   "source": [
    "# maximum value of the first column\n",
    "X1_max = max(X_train[:,1])\n",
    "X1_max\n",
    "# or\n",
    "np.max(X_train[:,1])"
   ]
  },
  {
   "cell_type": "code",
   "execution_count": 15,
   "metadata": {},
   "outputs": [
    {
     "data": {
      "text/plain": [
       "1250.0"
      ]
     },
     "execution_count": 15,
     "metadata": {},
     "output_type": "execute_result"
    }
   ],
   "source": [
    "# average of first column\n",
    "np.mean(X_train[:,0])\n",
    "# or\n",
    "X_train[:,0].mean()"
   ]
  },
  {
   "cell_type": "code",
   "execution_count": 16,
   "metadata": {},
   "outputs": [
    {
     "data": {
      "text/plain": [
       "2.5"
      ]
     },
     "execution_count": 16,
     "metadata": {},
     "output_type": "execute_result"
    }
   ],
   "source": [
    "# average of second column\n",
    "np.mean(X_train[:,1])\n",
    "# or\n",
    "X_train[:,1].mean()"
   ]
  },
  {
   "cell_type": "code",
   "execution_count": 31,
   "metadata": {},
   "outputs": [
    {
     "name": "stdout",
     "output_type": "stream",
     "text": [
      "[[0. 0.]\n",
      " [1. 1.]]\n"
     ]
    }
   ],
   "source": [
    "def max_min_s(a):\n",
    "    for col_num in range(a.shape[1]): \n",
    "        min_val = np.min(a[:, col_num])\n",
    "        range_val = np.max(a[:, col_num]) - min_val\n",
    "        a[:, col_num] = (a[:, col_num] - min_val) / range_val\n",
    "    return a\n",
    "\n",
    "# or\n",
    "def max_min_s(X):\n",
    "    # the two-step process as described above\n",
    "    return (X - X.min(axis=0)) / (X.max(axis=0) - X.min(axis=0))\n",
    "\n",
    "print(max_min_s(X_train))"
   ]
  },
  {
   "cell_type": "code",
   "execution_count": 30,
   "metadata": {},
   "outputs": [
    {
     "name": "stdout",
     "output_type": "stream",
     "text": [
      "[[0. 0.]\n",
      " [1. 1.]]\n"
     ]
    }
   ],
   "source": [
    "from sklearn import preprocessing\n",
    "\n",
    "min_max_scaler = preprocessing.MinMaxScaler()\n",
    "X_minmax = min_max_scaler.fit_transform(X_train)\n",
    "print(X_minmax)"
   ]
  },
  {
   "cell_type": "code",
   "execution_count": 36,
   "metadata": {},
   "outputs": [
    {
     "name": "stdout",
     "output_type": "stream",
     "text": [
      "[[-1. -1.]\n",
      " [ 1.  1.]]\n"
     ]
    }
   ],
   "source": [
    "# standard scalar\n",
    "def max_min_standard_scalar(a):\n",
    "    for col_num in range(a.shape[1]): \n",
    "        min_val = np.min(a[:, col_num])\n",
    "        range_val = np.max(a[:, col_num]) - min_val\n",
    "        a[:, col_num] = (a[:, col_num] - a[:, col_num].mean()) / a[:, col_num].std()\n",
    "    return a\n",
    "\n",
    "# or\n",
    "\n",
    "# def max_min_standard_scalar(X):\n",
    "#     return (X - X.mean(axis=0)) /X.std(axis=0) \n",
    "\n",
    "# or\n",
    "# standard_scaler = preprocessing.StandardScaler()\n",
    "# X_ss = standard_scaler.fit_transform(X_train)\n",
    "# print(X_ss)\n",
    "\n",
    "print(max_min_standard_scalar(X_train))\n"
   ]
  },
  {
   "cell_type": "code",
   "execution_count": null,
   "metadata": {},
   "outputs": [],
   "source": []
  }
 ],
 "metadata": {
  "kernelspec": {
   "display_name": "Python 3",
   "language": "python",
   "name": "python3"
  },
  "language_info": {
   "codemirror_mode": {
    "name": "ipython",
    "version": 3
   },
   "file_extension": ".py",
   "mimetype": "text/x-python",
   "name": "python",
   "nbconvert_exporter": "python",
   "pygments_lexer": "ipython3",
   "version": "3.7.6"
  }
 },
 "nbformat": 4,
 "nbformat_minor": 2
}
