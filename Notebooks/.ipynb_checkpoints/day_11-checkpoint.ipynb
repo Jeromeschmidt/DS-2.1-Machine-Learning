{
 "cells": [
  {
   "cell_type": "code",
   "execution_count": 22,
   "metadata": {},
   "outputs": [],
   "source": [
    "documents = ['The sky is bule', 'The sun is bright', 'The sun in the sky is bright', 'we can see the shining sun, the bright sun']"
   ]
  },
  {
   "cell_type": "code",
   "execution_count": 14,
   "metadata": {},
   "outputs": [
    {
     "name": "stdout",
     "output_type": "stream",
     "text": [
      "[[0.         0.78528828 0.         0.6191303  0.        ]\n",
      " [0.70710678 0.         0.         0.         0.70710678]\n",
      " [0.53256952 0.         0.         0.65782931 0.53256952]\n",
      " [0.36626037 0.         0.57381765 0.         0.73252075]]\n",
      "['bright', 'bule', 'shining', 'sky', 'sun']\n",
      "[1.60593668 0.78528828 0.57381765 1.27695961 1.97219705]\n"
     ]
    }
   ],
   "source": [
    "import numpy as np\n",
    "from sklearn.feature_extraction.text import TfidfVectorizer\n",
    "\n",
    "tf_idf_vect = TfidfVectorizer(stop_words='english')\n",
    "new_doc = tf_idf_vect.fit_transform(documents)\n",
    "print(new_doc.toarray())\n",
    "print(tf_idf_vect.get_feature_names())\n",
    "scores = np.sum(new_doc, axis=0)\n",
    "scores = np.ravel(scores)\n",
    "print(scores)"
   ]
  },
  {
   "cell_type": "code",
   "execution_count": 20,
   "metadata": {},
   "outputs": [
    {
     "data": {
      "text/plain": [
       "[('sun', 1.9721970507561841),\n",
       " ('bright', 1.605936677684143),\n",
       " ('sky', 1.27695960978985),\n",
       " ('bule', 0.7852882757103967),\n",
       " ('shining', 0.5738176501168697)]"
      ]
     },
     "execution_count": 20,
     "metadata": {},
     "output_type": "execute_result"
    }
   ],
   "source": [
    "results = list()\n",
    "for i in range(len(tf_idf_vect.get_feature_names())):\n",
    "    results.append((tf_idf_vect.get_feature_names()[i], scores[i]))\n",
    "results.sort(key = lambda results: results[1], reverse=True)\n",
    "results"
   ]
  },
  {
   "cell_type": "code",
   "execution_count": 23,
   "metadata": {},
   "outputs": [
    {
     "name": "stdout",
     "output_type": "stream",
     "text": [
      "[('sun', 1.9721970507561841), ('bright', 1.605936677684143), ('sky', 1.27695960978985), ('bule', 0.7852882757103967), ('shining', 0.5738176501168697)]\n"
     ]
    }
   ],
   "source": [
    "def get_scores(documents):\n",
    "    tf_idf_vect = TfidfVectorizer(stop_words='english')\n",
    "    new_doc = tf_idf_vect.fit_transform(documents)\n",
    "    scores = np.sum(new_doc, axis=0)\n",
    "    scores = np.ravel(scores)\n",
    "    \n",
    "    results = list()\n",
    "    for i in range(len(tf_idf_vect.get_feature_names())):\n",
    "        results.append((tf_idf_vect.get_feature_names()[i], scores[i]))\n",
    "    results.sort(key = lambda results: results[1], reverse=True)\n",
    "    return results\n",
    "\n",
    "print(get_scores(documents))"
   ]
  },
  {
   "cell_type": "code",
   "execution_count": null,
   "metadata": {},
   "outputs": [],
   "source": []
  }
 ],
 "metadata": {
  "kernelspec": {
   "display_name": "Python 3",
   "language": "python",
   "name": "python3"
  },
  "language_info": {
   "codemirror_mode": {
    "name": "ipython",
    "version": 3
   },
   "file_extension": ".py",
   "mimetype": "text/x-python",
   "name": "python",
   "nbconvert_exporter": "python",
   "pygments_lexer": "ipython3",
   "version": "3.7.6"
  }
 },
 "nbformat": 4,
 "nbformat_minor": 4
}
