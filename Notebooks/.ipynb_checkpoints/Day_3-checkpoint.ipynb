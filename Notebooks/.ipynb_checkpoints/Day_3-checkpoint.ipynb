{
 "cells": [
  {
   "cell_type": "code",
   "execution_count": 25,
   "metadata": {},
   "outputs": [],
   "source": [
    "import pandas as pd\n",
    "import matplotlib.pyplot as plt\n",
    "\n",
    "df=pd.read_csv('datasets/SVM_Dataset1.csv', index_col=0)"
   ]
  },
  {
   "cell_type": "code",
   "execution_count": 26,
   "metadata": {},
   "outputs": [
    {
     "data": {
      "text/html": [
       "<div>\n",
       "<style scoped>\n",
       "    .dataframe tbody tr th:only-of-type {\n",
       "        vertical-align: middle;\n",
       "    }\n",
       "\n",
       "    .dataframe tbody tr th {\n",
       "        vertical-align: top;\n",
       "    }\n",
       "\n",
       "    .dataframe thead th {\n",
       "        text-align: right;\n",
       "    }\n",
       "</style>\n",
       "<table border=\"1\" class=\"dataframe\">\n",
       "  <thead>\n",
       "    <tr style=\"text-align: right;\">\n",
       "      <th></th>\n",
       "      <th>X1</th>\n",
       "      <th>X2</th>\n",
       "      <th>y</th>\n",
       "    </tr>\n",
       "  </thead>\n",
       "  <tbody>\n",
       "    <tr>\n",
       "      <th>0</th>\n",
       "      <td>2.947814</td>\n",
       "      <td>6.626878</td>\n",
       "      <td>1</td>\n",
       "    </tr>\n",
       "    <tr>\n",
       "      <th>1</th>\n",
       "      <td>2.530388</td>\n",
       "      <td>7.785050</td>\n",
       "      <td>1</td>\n",
       "    </tr>\n",
       "    <tr>\n",
       "      <th>2</th>\n",
       "      <td>3.566991</td>\n",
       "      <td>5.651046</td>\n",
       "      <td>1</td>\n",
       "    </tr>\n",
       "    <tr>\n",
       "      <th>3</th>\n",
       "      <td>3.156983</td>\n",
       "      <td>5.467077</td>\n",
       "      <td>1</td>\n",
       "    </tr>\n",
       "    <tr>\n",
       "      <th>4</th>\n",
       "      <td>2.582346</td>\n",
       "      <td>4.457777</td>\n",
       "      <td>-1</td>\n",
       "    </tr>\n",
       "    <tr>\n",
       "      <th>5</th>\n",
       "      <td>2.155826</td>\n",
       "      <td>6.222343</td>\n",
       "      <td>-1</td>\n",
       "    </tr>\n",
       "    <tr>\n",
       "      <th>6</th>\n",
       "      <td>3.273418</td>\n",
       "      <td>3.520687</td>\n",
       "      <td>-1</td>\n",
       "    </tr>\n",
       "  </tbody>\n",
       "</table>\n",
       "</div>"
      ],
      "text/plain": [
       "         X1        X2  y\n",
       "0  2.947814  6.626878  1\n",
       "1  2.530388  7.785050  1\n",
       "2  3.566991  5.651046  1\n",
       "3  3.156983  5.467077  1\n",
       "4  2.582346  4.457777 -1\n",
       "5  2.155826  6.222343 -1\n",
       "6  3.273418  3.520687 -1"
      ]
     },
     "execution_count": 26,
     "metadata": {},
     "output_type": "execute_result"
    }
   ],
   "source": [
    "df"
   ]
  },
  {
   "cell_type": "code",
   "execution_count": 47,
   "metadata": {},
   "outputs": [
    {
     "data": {
      "text/plain": [
       "[(2.947814, 6.626878),\n",
       " (2.5303880000000003, 7.78505),\n",
       " (3.5669910000000002, 5.651046),\n",
       " (3.1569830000000003, 5.467077),\n",
       " (2.582346, 4.457777),\n",
       " (2.155826, 6.222343),\n",
       " (3.273418, 3.520687)]"
      ]
     },
     "execution_count": 47,
     "metadata": {},
     "output_type": "execute_result"
    }
   ],
   "source": [
    "x1 = df['X1']\n",
    "x2 = df['X2']\n",
    "y = df['y']\n",
    "x_train = list()\n",
    "for i in range(len(df)):\n",
    "    x_train.append((x1[i], x2[i]))"
   ]
  },
  {
   "cell_type": "code",
   "execution_count": 28,
   "metadata": {},
   "outputs": [],
   "source": [
    "colors = list()\n",
    "for i in range(len(df)):\n",
    "    if df['y'][i] == 1:\n",
    "        colors.append(\"b\")\n",
    "    else:\n",
    "        colors.append(\"r\")"
   ]
  },
  {
   "cell_type": "code",
   "execution_count": 29,
   "metadata": {},
   "outputs": [],
   "source": [
    "health = list()\n",
    "for i in range(len(df)):\n",
    "    if df['y'][i] == 1:\n",
    "        health.append(\"H\")\n",
    "    else:\n",
    "        health.append(\"NH\")"
   ]
  },
  {
   "cell_type": "code",
   "execution_count": 56,
   "metadata": {},
   "outputs": [
    {
     "data": {
      "image/png": "[encoded data removed]",
      "text/plain": [
       "<Figure size 432x288 with 1 Axes>"
      ]
     },
     "metadata": {
      "needs_background": "light"
     },
     "output_type": "display_data"
    }
   ],
   "source": [
    "# for i, (j,k) in enumerate(x_train):\n",
    "#     plt.scatter(j, k, c = colors[i])\n",
    "#     plt.text(j+.03, k+.03, health[i])\n",
    "    \n",
    "for i in range(len(x_train)):\n",
    "    plt.scatter(x_train[i][0], x_train[i][1], c = colors[i])\n",
    "    plt.text(x_train[i][0]+.03, x_train[i][1], health[i])"
   ]
  },
  {
   "cell_type": "code",
   "execution_count": null,
   "metadata": {},
   "outputs": [],
   "source": []
  }
 ],
 "metadata": {
  "kernelspec": {
   "display_name": "Python 3",
   "language": "python",
   "name": "python3"
  },
  "language_info": {
   "codemirror_mode": {
    "name": "ipython",
    "version": 3
   },
   "file_extension": ".py",
   "mimetype": "text/x-python",
   "name": "python",
   "nbconvert_exporter": "python",
   "pygments_lexer": "ipython3",
   "version": "3.7.6"
  }
 },
 "nbformat": 4,
 "nbformat_minor": 2
}
