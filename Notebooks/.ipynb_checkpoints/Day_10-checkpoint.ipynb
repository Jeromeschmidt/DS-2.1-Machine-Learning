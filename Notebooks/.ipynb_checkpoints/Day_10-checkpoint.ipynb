{
 "cells": [
  {
   "cell_type": "code",
   "execution_count": 1,
   "metadata": {},
   "outputs": [],
   "source": [
    "spam_text= ['Send us your password', 'review us', 'Send your password', 'Send us your account']\n",
    "ham_text= ['Send us your review', 'review your password']"
   ]
  },
  {
   "cell_type": "code",
   "execution_count": 3,
   "metadata": {},
   "outputs": [
    {
     "name": "stdout",
     "output_type": "stream",
     "text": [
      "{'send': 3, 'us': 3, 'your': 3, 'password': 2, 'review': 1, 'account': 1}\n",
      "{'send': 1, 'us': 1, 'your': 2, 'review': 2, 'password': 1}\n"
     ]
    }
   ],
   "source": [
    "spam = dict()\n",
    "ham = dict()\n",
    "for phrase in spam_text:\n",
    "    words = phrase.split()\n",
    "    for word in words:\n",
    "        if word.lower() in spam:\n",
    "            spam[word.lower()] += 1\n",
    "        else:\n",
    "            spam[word.lower()] = 1\n",
    "            \n",
    "for phrase in ham_text:\n",
    "    words = phrase.split()\n",
    "    for word in words:\n",
    "        if word.lower() in ham:\n",
    "            ham[word.lower()] += 1\n",
    "        else:\n",
    "            ham[word.lower()] = 1\n",
    "            \n",
    "print(spam)\n",
    "print(ham)"
   ]
  },
  {
   "cell_type": "code",
   "execution_count": 10,
   "metadata": {},
   "outputs": [
    {
     "name": "stdout",
     "output_type": "stream",
     "text": [
      "send: 0.23076923076923078\n",
      "us: 0.23076923076923078\n",
      "your: 0.23076923076923078\n",
      "password: 0.15384615384615385\n",
      "review: 0.07692307692307693\n",
      "account: 0.07692307692307693\n"
     ]
    }
   ],
   "source": [
    "### Prob for each word in spam email\n",
    "for word in spam.keys():\n",
    "    print(word + \": \"+ str(spam[word]/sum(spam.values())))"
   ]
  },
  {
   "cell_type": "code",
   "execution_count": 11,
   "metadata": {},
   "outputs": [
    {
     "name": "stdout",
     "output_type": "stream",
     "text": [
      "send: 0.14285714285714285\n",
      "us: 0.14285714285714285\n",
      "your: 0.2857142857142857\n",
      "review: 0.2857142857142857\n",
      "password: 0.14285714285714285\n"
     ]
    }
   ],
   "source": [
    "### Prob for each word in ham email\n",
    "for word in ham.keys():\n",
    "    print(word + \": \"+ str(ham[word]/sum(ham.values())))"
   ]
  },
  {
   "cell_type": "code",
   "execution_count": null,
   "metadata": {},
   "outputs": [],
   "source": []
  }
 ],
 "metadata": {
  "kernelspec": {
   "display_name": "Python 3",
   "language": "python",
   "name": "python3"
  },
  "language_info": {
   "codemirror_mode": {
    "name": "ipython",
    "version": 3
   },
   "file_extension": ".py",
   "mimetype": "text/x-python",
   "name": "python",
   "nbconvert_exporter": "python",
   "pygments_lexer": "ipython3",
   "version": "3.7.6"
  }
 },
 "nbformat": 4,
 "nbformat_minor": 4
}
